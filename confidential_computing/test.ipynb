{
 "cells": [
  {
   "cell_type": "code",
   "execution_count": 2,
   "metadata": {},
   "outputs": [],
   "source": [
    "import pandas as pd\r\n",
    "import numpy as np\r\n",
    "from scipy.special import comb\r\n",
    "import random"
   ]
  },
  {
   "cell_type": "code",
   "execution_count": 31,
   "metadata": {},
   "outputs": [
    {
     "name": "stdout",
     "output_type": "stream",
     "text": [
      "[1, 2]\n",
      "[3, 2]\n"
     ]
    },
    {
     "data": {
      "text/plain": [
       "[1, 2, 3]"
      ]
     },
     "execution_count": 31,
     "metadata": {},
     "output_type": "execute_result"
    }
   ],
   "source": [
    "lst = [1,2,3]\r\n",
    "a = random.sample(lst,2)\r\n",
    "b = random.sample(lst,2)\r\n",
    "\r\n",
    "print(a)\r\n",
    "print(b)\r\n",
    "\r\n",
    "c = list(set(a+b))\r\n",
    "c"
   ]
  },
  {
   "cell_type": "code",
   "execution_count": 2,
   "metadata": {},
   "outputs": [],
   "source": [
    "def k_n_mean_in(input, k, n):\r\n",
    "    num_segment = comb(n, k-1, exact=True)\r\n",
    "    share_temp = np.random.randint(-100,100,(num_segment))\r\n",
    "    share_n = input - sum(share_temp)\r\n",
    "    share_lst = list(share_temp).append(share_n)\r\n",
    "    \r\n"
   ]
  },
  {
   "cell_type": "markdown",
   "metadata": {},
   "source": [
    "### Question1"
   ]
  },
  {
   "cell_type": "code",
   "execution_count": 20,
   "metadata": {},
   "outputs": [
    {
     "name": "stdout",
     "output_type": "stream",
     "text": [
      "input: 234\n",
      "share_list : [[-45, 196], [83, 196], [83, -45]]\n",
      "answer : 234\n"
     ]
    }
   ],
   "source": [
    "import pandas as pd\r\n",
    "import numpy as np\r\n",
    "from scipy.special import comb\r\n",
    "import random\r\n",
    "\r\n",
    "def k_n_mean_in(_input, k, n):\r\n",
    "\r\n",
    "    segment_temp = np.random.randint(-100,100,(k))\r\n",
    "    segment_n = _input - sum(segment_temp)\r\n",
    "    segment_lst = list(segment_temp)\r\n",
    "    segment_lst.append(segment_n)\r\n",
    "    \r\n",
    "    share_lst = [[segment_lst[j] for j in range(n) if j != i] for i in range(n)]\r\n",
    "\r\n",
    "    return share_lst\r\n",
    "\r\n",
    "\r\n",
    "\r\n",
    "def k_n_mean_out(_share_lst, k, n):\r\n",
    "    \r\n",
    "    num_lst = [i for i in range(n)]\r\n",
    "    random_share = random.sample(num_lst, k)\r\n",
    "\r\n",
    "    segment_lst = list(set(_share_lst[random_share[0]] + _share_lst[random_share[1]]))\r\n",
    "    answer = sum( segment_lst )\r\n",
    "    return answer \r\n",
    "\r\n",
    "\r\n",
    "\r\n",
    "\r\n",
    "\r\n",
    "\r\n",
    "input_num = 234\r\n",
    "share_lst = k_n_mean_in(input_num, 2, 3)\r\n",
    "ans = k_n_mean_out(share_lst, 2, 3)\r\n",
    "\r\n",
    "\r\n",
    "\r\n",
    "print(f\"input: {input_num}\")\r\n",
    "print(f\"share_list : {share_lst}\")\r\n",
    "print(f\"answer : {ans}\")\r\n",
    "    "
   ]
  },
  {
   "cell_type": "markdown",
   "metadata": {},
   "source": [
    "### Question２\r\n"
   ]
  },
  {
   "cell_type": "code",
   "execution_count": 30,
   "metadata": {},
   "outputs": [
    {
     "name": "stdout",
     "output_type": "stream",
     "text": [
      "input1: 149 input2: 222\n",
      "sum input : 371\n",
      "share_list1 : [[38, 40], [71, 40], [71, 38]] share_list2 : [[-97, 353], [-34, 353], [-34, -97]]\n",
      "answer sum input: 371\n"
     ]
    }
   ],
   "source": [
    "def sum_share(_share_list1, _share_list2, k, n):\r\n",
    "    \r\n",
    "    sum_share_lst = [list(np.array(_share_list1[i]) + np.array(_share_list2[i])) for i in range(n)]\r\n",
    "\r\n",
    "    answer = k_n_mean_out(sum_share_lst, k, n)\r\n",
    "\r\n",
    "    return answer\r\n",
    "\r\n",
    "\r\n",
    "input_arr = np.random.randint(100,300,(2))\r\n",
    "\r\n",
    "input1 = input_arr[0]\r\n",
    "input2 = input_arr[1]\r\n",
    "\r\n",
    "sum_input = sum(input_arr)\r\n",
    "\r\n",
    "share_list1 = k_n_mean_in(input1, 2, 3)\r\n",
    "share_list2 = k_n_mean_in(input2, 2, 3)\r\n",
    "\r\n",
    "ans = sum_share(share_list1, share_list2, 2, 3)\r\n",
    "\r\n",
    "print(f\"input1: {input1}\", f\"input2: {input2}\")\r\n",
    "print(f\"sum input : {sum_input}\")\r\n",
    "print(f\"share_list1 : {share_list1}\", f\"share_list2 : {share_list2}\")\r\n",
    "print(f\"answer sum input: {ans}\")\r\n",
    "    \r\n",
    "\r\n",
    "\r\n",
    "\r\n"
   ]
  },
  {
   "cell_type": "code",
   "execution_count": 37,
   "metadata": {},
   "outputs": [
    {
     "name": "stdout",
     "output_type": "stream",
     "text": [
      "input1: 213 multi_num: 41\n",
      "multi input : 8733\n",
      "share_list : [[-27, 155], [85, 155], [85, -27]]\n",
      "answer multi input: 8733\n"
     ]
    }
   ],
   "source": [
    "def multiple_share(_share_list, k, n, m):\r\n",
    "    \r\n",
    "    multi_share_lst = [list(np.array(_share_list[i])*m)  for i in range(n)]\r\n",
    "\r\n",
    "    answer = k_n_mean_out(multi_share_lst, k, n)\r\n",
    "\r\n",
    "    return answer\r\n",
    "\r\n",
    "\r\n",
    "\r\n",
    "input1 = np.random.randint(100,300)\r\n",
    "\r\n",
    "num_multi = np.random.randint(1,50)\r\n",
    "\r\n",
    "multi_input = input1*num_multi\r\n",
    "\r\n",
    "share_lst = k_n_mean_in(input1, 2, 3)\r\n",
    "\r\n",
    "ans = multiple_share(share_lst, 2, 3, num_multi)\r\n",
    "\r\n",
    "\r\n",
    "\r\n",
    "print(f\"input1: {input1}\", f\"multi_num: {num_multi}\")\r\n",
    "print(f\"multi input : {multi_input}\")\r\n",
    "print(f\"share_list : {share_lst}\")\r\n",
    "print(f\"answer multi input: {ans}\")\r\n"
   ]
  },
  {
   "cell_type": "markdown",
   "metadata": {},
   "source": [
    "### Question3"
   ]
  },
  {
   "cell_type": "code",
   "execution_count": null,
   "metadata": {},
   "outputs": [],
   "source": []
  },
  {
   "cell_type": "code",
   "execution_count": null,
   "metadata": {},
   "outputs": [],
   "source": []
  },
  {
   "cell_type": "code",
   "execution_count": null,
   "metadata": {},
   "outputs": [],
   "source": []
  },
  {
   "cell_type": "code",
   "execution_count": null,
   "metadata": {},
   "outputs": [],
   "source": []
  }
 ],
 "metadata": {
  "interpreter": {
   "hash": "7e0f26b5e0177172c4c070d59131c75db04e43bf8ce1b3b54818f9759a8a6cee"
  },
  "kernelspec": {
   "display_name": "Python 3.8.8 64-bit ('t-pro': conda)",
   "name": "python3"
  },
  "language_info": {
   "codemirror_mode": {
    "name": "ipython",
    "version": 3
   },
   "file_extension": ".py",
   "mimetype": "text/x-python",
   "name": "python",
   "nbconvert_exporter": "python",
   "pygments_lexer": "ipython3",
   "version": "3.8.8"
  },
  "orig_nbformat": 4
 },
 "nbformat": 4,
 "nbformat_minor": 2
}