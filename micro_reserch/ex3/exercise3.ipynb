{
 "cells": [
  {
   "cell_type": "code",
   "execution_count": 1,
   "id": "bb501fbd",
   "metadata": {},
   "outputs": [],
   "source": [
    "import numpy as np\n",
    "import pandas as pd\n",
    "import matplotlib.pyplot as plt\n",
    "import seaborn as sns\n",
    "import math"
   ]
  },
  {
   "cell_type": "code",
   "execution_count": 2,
   "id": "cf71edf5",
   "metadata": {},
   "outputs": [],
   "source": [
    "data = pd.read_csv(\"input/data3.csv\")"
   ]
  },
  {
   "cell_type": "code",
   "execution_count": 3,
   "id": "53b13c9f",
   "metadata": {
    "scrolled": true
   },
   "outputs": [
    {
     "output_type": "execute_result",
     "data": {
      "text/plain": [
       "    price  assess  bdrms  lotsize  sqrft\n",
       "0   300.0   349.1      4     6126   2438\n",
       "1   370.0   351.5      3     9903   2076\n",
       "2   191.0   217.7      3     5200   1374\n",
       "3   195.0   231.8      3     4600   1448\n",
       "4   373.0   319.1      4     6095   2514\n",
       "..    ...     ...    ...      ...    ...\n",
       "83  295.0   318.3      3     6056   1837\n",
       "84  236.0   259.4      3     5828   1715\n",
       "85  202.5   258.1      3     6341   1574\n",
       "86  219.0   232.0      2     6362   1185\n",
       "87  242.0   252.0      4     4950   1774\n",
       "\n",
       "[88 rows x 5 columns]"
      ],
      "text/html": "<div>\n<style scoped>\n    .dataframe tbody tr th:only-of-type {\n        vertical-align: middle;\n    }\n\n    .dataframe tbody tr th {\n        vertical-align: top;\n    }\n\n    .dataframe thead th {\n        text-align: right;\n    }\n</style>\n<table border=\"1\" class=\"dataframe\">\n  <thead>\n    <tr style=\"text-align: right;\">\n      <th></th>\n      <th>price</th>\n      <th>assess</th>\n      <th>bdrms</th>\n      <th>lotsize</th>\n      <th>sqrft</th>\n    </tr>\n  </thead>\n  <tbody>\n    <tr>\n      <th>0</th>\n      <td>300.0</td>\n      <td>349.1</td>\n      <td>4</td>\n      <td>6126</td>\n      <td>2438</td>\n    </tr>\n    <tr>\n      <th>1</th>\n      <td>370.0</td>\n      <td>351.5</td>\n      <td>3</td>\n      <td>9903</td>\n      <td>2076</td>\n    </tr>\n    <tr>\n      <th>2</th>\n      <td>191.0</td>\n      <td>217.7</td>\n      <td>3</td>\n      <td>5200</td>\n      <td>1374</td>\n    </tr>\n    <tr>\n      <th>3</th>\n      <td>195.0</td>\n      <td>231.8</td>\n      <td>3</td>\n      <td>4600</td>\n      <td>1448</td>\n    </tr>\n    <tr>\n      <th>4</th>\n      <td>373.0</td>\n      <td>319.1</td>\n      <td>4</td>\n      <td>6095</td>\n      <td>2514</td>\n    </tr>\n    <tr>\n      <th>...</th>\n      <td>...</td>\n      <td>...</td>\n      <td>...</td>\n      <td>...</td>\n      <td>...</td>\n    </tr>\n    <tr>\n      <th>83</th>\n      <td>295.0</td>\n      <td>318.3</td>\n      <td>3</td>\n      <td>6056</td>\n      <td>1837</td>\n    </tr>\n    <tr>\n      <th>84</th>\n      <td>236.0</td>\n      <td>259.4</td>\n      <td>3</td>\n      <td>5828</td>\n      <td>1715</td>\n    </tr>\n    <tr>\n      <th>85</th>\n      <td>202.5</td>\n      <td>258.1</td>\n      <td>3</td>\n      <td>6341</td>\n      <td>1574</td>\n    </tr>\n    <tr>\n      <th>86</th>\n      <td>219.0</td>\n      <td>232.0</td>\n      <td>2</td>\n      <td>6362</td>\n      <td>1185</td>\n    </tr>\n    <tr>\n      <th>87</th>\n      <td>242.0</td>\n      <td>252.0</td>\n      <td>4</td>\n      <td>4950</td>\n      <td>1774</td>\n    </tr>\n  </tbody>\n</table>\n<p>88 rows × 5 columns</p>\n</div>"
     },
     "metadata": {},
     "execution_count": 3
    }
   ],
   "source": [
    "data"
   ]
  },
  {
   "cell_type": "code",
   "execution_count": null,
   "id": "ce55cc18",
   "metadata": {},
   "outputs": [],
   "source": []
  },
  {
   "cell_type": "markdown",
   "id": "89e2cc6c",
   "metadata": {},
   "source": [
    "### Question.A\n",
    "Use Data 3 to obtain the heteroskedasticity–robust standard errors for equation (8.17)\n",
    "\n",
    "$$\n",
    "\\hat price=β_0+β_1 lotsize+β_2 sqrft+β_3 bdrms+μ\n",
    "$$\n",
    "\n",
    "in the textbook. Discuss any important differences with the usual standard errors.\n",
    "\n"
   ]
  },
  {
   "cell_type": "code",
   "execution_count": 4,
   "metadata": {},
   "outputs": [],
   "source": [
    "data_a = data.loc[:,['lotsize','sqrft',\"bdrms\"]]\n",
    "# data_c.columns = ['voteA','log_exA',\"log_exB\", \"prtystrA\"]\n",
    "\n",
    "# data_c[\"log_exA\"] = np.log(data[\"expendA\"])\n",
    "# data_c[\"log_exB\"] = np.log(data[\"expendB\"])\n"
   ]
  },
  {
   "cell_type": "code",
   "execution_count": 5,
   "id": "6d8786da",
   "metadata": {},
   "outputs": [],
   "source": [
    "from sklearn.linear_model import LinearRegression\n",
    "import statsmodels.api as sm"
   ]
  },
  {
   "cell_type": "code",
   "execution_count": 6,
   "id": "a748acd9",
   "metadata": {
    "scrolled": false
   },
   "outputs": [
    {
     "output_type": "stream",
     "name": "stdout",
     "text": [
      "回帰係数 β1: 0.002, β2: 0.123, β3: 13.853, \n\n切片 β0: -21.770\n\ny=  -21.770 + 0.002lotsize + 0.123sqrft+ 13.853bdrms \n\n決定係数 R^2：  0.6723622276225454\n"
     ]
    }
   ],
   "source": [
    "from sklearn.linear_model import LinearRegression\n",
    "\n",
    "data_a = data.loc[:,['price','lotsize','sqrft',\"bdrms\"]]\n",
    "\n",
    "x_a = data_a.loc[:,['lotsize','sqrft',\"bdrms\"]]\n",
    "y = data[['price']]\n",
    "\n",
    "LR_a = LinearRegression()\n",
    "LR_a.fit(x_a,y)\n",
    "\n",
    "coef_a = LR_a.coef_[0]\n",
    "\n",
    "print('回帰係数 β1: %.3f, β2: %.3f, β3: %.3f, ' %(coef_a[0],coef_a[1],coef_a[2]))\n",
    "print()\n",
    "print('切片 β0: %.3f' %LR_a.intercept_)\n",
    "print()\n",
    "print('y=  %.3f + %.3flotsize + %.3fsqrft+ %.3fbdrms ' % (LR_a.intercept_,coef_a[0],coef_a[1],coef_a[2]))\n",
    "print()\n",
    "print('決定係数 R^2： ', LR_a.score(x_a, y))"
   ]
  },
  {
   "cell_type": "code",
   "execution_count": 7,
   "id": "25aef1dc",
   "metadata": {},
   "outputs": [
    {
     "output_type": "stream",
     "name": "stdout",
     "text": [
      "                            OLS Regression Results                            \n==============================================================================\nDep. Variable:                  price   R-squared:                       0.672\nModel:                            OLS   Adj. R-squared:                  0.661\nMethod:                 Least Squares   F-statistic:                     57.46\nDate:                Thu, 27 May 2021   Prob (F-statistic):           2.70e-20\nTime:                        15:26:51   Log-Likelihood:                -482.88\nNo. Observations:                  88   AIC:                             973.8\nDf Residuals:                      84   BIC:                             983.7\nDf Model:                           3                                         \nCovariance Type:            nonrobust                                         \n==============================================================================\n                 coef    std err          t      P>|t|      [0.025      0.975]\n------------------------------------------------------------------------------\nconst        -21.7703     29.475     -0.739      0.462     -80.385      36.844\nlotsize        0.0021      0.001      3.220      0.002       0.001       0.003\nsqrft          0.1228      0.013      9.275      0.000       0.096       0.149\nbdrms         13.8525      9.010      1.537      0.128      -4.065      31.770\n==============================================================================\nOmnibus:                       20.398   Durbin-Watson:                   2.110\nProb(Omnibus):                  0.000   Jarque-Bera (JB):               32.278\nSkew:                           0.961   Prob(JB):                     9.79e-08\nKurtosis:                       5.261   Cond. No.                     6.41e+04\n==============================================================================\n\nNotes:\n[1] Standard Errors assume that the covariance matrix of the errors is correctly specified.\n[2] The condition number is large, 6.41e+04. This might indicate that there are\nstrong multicollinearity or other numerical problems.\n"
     ]
    }
   ],
   "source": [
    "x_add_const = sm.add_constant(x_a)\n",
    "model_sm = sm.OLS(y, x_add_const).fit()\n",
    "print(model_sm.summary())"
   ]
  },
  {
   "cell_type": "code",
   "execution_count": 12,
   "metadata": {},
   "outputs": [
    {
     "output_type": "stream",
     "name": "stdout",
     "text": [
      "==============================================================================\n                 coef    std err          t      P>|t|      [0.025      0.975]\n------------------------------------------------------------------------------\nconst        -21.7703     41.033     -0.531      0.597    -103.368      59.828\nlotsize        0.0021      0.007      0.289      0.773      -0.012       0.016\nsqrft          0.1228      0.041      3.014      0.003       0.042       0.204\nbdrms         13.8525     11.562      1.198      0.234      -9.139      36.844\n==============================================================================\n"
     ]
    }
   ],
   "source": [
    "res_robust = model_sm.get_robustcov_results(cov_type='HC3', use_t=True)\n",
    "\n",
    "print(res_robust.summary().tables[1])"
   ]
  },
  {
   "cell_type": "markdown",
   "id": "fed211e8",
   "metadata": {},
   "source": [
    "### Question.B\n",
    "Use Data 3 to obtain the heteroskedasticity–robust standard errors for equation (8.18)\n",
    "\n",
    "$$\n",
    "\\hat log(price)=β_0+β_1 log(lotsize)+β_2 log(sqrft)+β_3 bdrms+μ\n",
    "$$\n",
    "\n"
   ]
  },
  {
   "cell_type": "code",
   "execution_count": 15,
   "id": "84767a01",
   "metadata": {},
   "outputs": [
    {
     "output_type": "stream",
     "name": "stdout",
     "text": [
      "回帰係数 β1: 0.168, β2: 0.700, β3: 0.037, \n\n切片 β0: -1.297\n\ny=  -1.297 + 0.168log(lotsize) + 0.700log(sqrft)+ 0.037bdrms \n\n決定係数 R^2：  0.6429652672863453\n"
     ]
    }
   ],
   "source": [
    "data_a = data.loc[:,['price','lotsize','sqrft',\"bdrms\"]]\n",
    "\n",
    "data_b = data_a.copy()\n",
    "data_b.columns = ['log(price)','log(lotsize)','log(sqrft)',\"bdrms\"]\n",
    "\n",
    "data_b[\"log(lotsize)\"] = np.log(data[\"lotsize\"])\n",
    "data_b[\"log(sqrft)\"] = np.log(data[\"sqrft\"])\n",
    "data_b[\"log(price)\"] = np.log(data[\"price\"])\n",
    "\n",
    "x_b = data_b.loc[:,['log(lotsize)','log(sqrft)',\"bdrms\"]]\n",
    "y_b = data_b[['log(price)']]\n",
    "\n",
    "LR_b = LinearRegression()\n",
    "LR_b.fit(x_b,y_b)\n",
    "\n",
    "coef_b = LR_b.coef_[0]\n",
    "\n",
    "print('回帰係数 β1: %.3f, β2: %.3f, β3: %.3f, ' %(coef_b[0],coef_b[1],coef_b[2]))\n",
    "print()\n",
    "print('切片 β0: %.3f' %LR_b.intercept_)\n",
    "print()\n",
    "print('y=  %.3f + %.3flog(lotsize) + %.3flog(sqrft)+ %.3fbdrms ' % (LR_b.intercept_,coef_b[0],coef_b[1],coef_b[2]))\n",
    "print()\n",
    "print('決定係数 R^2： ', LR_b.score(x_b, y_b))"
   ]
  },
  {
   "cell_type": "code",
   "execution_count": 16,
   "id": "d24982f5",
   "metadata": {},
   "outputs": [
    {
     "output_type": "stream",
     "name": "stdout",
     "text": [
      "                            OLS Regression Results                            \n==============================================================================\nDep. Variable:             log(price)   R-squared:                       0.643\nModel:                            OLS   Adj. R-squared:                  0.630\nMethod:                 Least Squares   F-statistic:                     50.42\nDate:                Thu, 27 May 2021   Prob (F-statistic):           9.74e-19\nTime:                        17:02:25   Log-Likelihood:                 25.861\nNo. Observations:                  88   AIC:                            -43.72\nDf Residuals:                      84   BIC:                            -33.81\nDf Model:                           3                                         \nCovariance Type:            nonrobust                                         \n================================================================================\n                   coef    std err          t      P>|t|      [0.025      0.975]\n--------------------------------------------------------------------------------\nconst           -1.2970      0.651     -1.992      0.050      -2.592      -0.002\nlog(lotsize)     0.1680      0.038      4.388      0.000       0.092       0.244\nlog(sqrft)       0.7002      0.093      7.540      0.000       0.516       0.885\nbdrms            0.0370      0.028      1.342      0.183      -0.018       0.092\n==============================================================================\nOmnibus:                       12.060   Durbin-Watson:                   2.089\nProb(Omnibus):                  0.002   Jarque-Bera (JB):               34.889\nSkew:                          -0.188   Prob(JB):                     2.65e-08\nKurtosis:                       6.062   Cond. No.                         410.\n==============================================================================\n\nNotes:\n[1] Standard Errors assume that the covariance matrix of the errors is correctly specified.\n"
     ]
    }
   ],
   "source": [
    "x_add_const = sm.add_constant(x_b)\n",
    "model_sm = sm.OLS(y_b, x_add_const).fit()\n",
    "print(model_sm.summary())"
   ]
  },
  {
   "cell_type": "code",
   "execution_count": 17,
   "metadata": {},
   "outputs": [
    {
     "output_type": "stream",
     "name": "stdout",
     "text": [
      "================================================================================\n                   coef    std err          t      P>|t|      [0.025      0.975]\n--------------------------------------------------------------------------------\nconst           -1.2970      0.850     -1.525      0.131      -2.988       0.394\nlog(lotsize)     0.1680      0.053      3.153      0.002       0.062       0.274\nlog(sqrft)       0.7002      0.121      5.768      0.000       0.459       0.942\nbdrms            0.0370      0.036      1.039      0.302      -0.034       0.108\n================================================================================\n"
     ]
    }
   ],
   "source": [
    "res_robust = model_sm.get_robustcov_results(cov_type='HC3', use_t=True)\n",
    "\n",
    "print(res_robust.summary().tables[1])"
   ]
  },
  {
   "cell_type": "markdown",
   "id": "e56946d2",
   "metadata": {},
   "source": []
  },
  {
   "source": [
    "Apply the full White test for heteroskedasticity to equation (8.18) in the textbook. Using the chi-square form of the statistic, obtain the p-value. What do you conclude?\n",
    "\n"
   ],
   "cell_type": "markdown",
   "metadata": {}
  },
  {
   "cell_type": "code",
   "execution_count": 29,
   "metadata": {},
   "outputs": [
    {
     "output_type": "stream",
     "name": "stdout",
     "text": [
      "LM statistic： 9.54945238422125\nLM p-value： 0.38817399553413134\nF statistics： 1.0549565704574497\nF p-value： 0.4053123744214159\n"
     ]
    }
   ],
   "source": [
    "# from stat import het_white\n",
    "from statsmodels.stats.diagnostic import het_white\n",
    "\n",
    "lst = [het_white(model_sm.resid, model_sm.model.exog)[i] for i in range(4)]\n",
    "print(\"LM statistic：\",lst[0])\n",
    "print(\"LM p-value：\",lst[1])\n",
    "print(\"F statistics：\",lst[2])\n",
    "print(\"F p-value：\",lst[3])"
   ]
  }
 ],
 "metadata": {
  "kernelspec": {
   "name": "python388jvsc74a57bd0f342b415b39ec2ba3bba9b91519097b75df5f74551f063071c5addce951ee7ee",
   "display_name": "Python 3.8.8 64-bit ('urban_reserch': conda)"
  },
  "language_info": {
   "codemirror_mode": {
    "name": "ipython",
    "version": 3
   },
   "file_extension": ".py",
   "mimetype": "text/x-python",
   "name": "python",
   "nbconvert_exporter": "python",
   "pygments_lexer": "ipython3",
   "version": "3.8.8"
  }
 },
 "nbformat": 4,
 "nbformat_minor": 5
}