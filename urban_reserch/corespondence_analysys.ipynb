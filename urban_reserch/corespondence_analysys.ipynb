{
 "cells": [
  {
   "cell_type": "code",
   "execution_count": 87,
   "id": "94a85974",
   "metadata": {},
   "outputs": [],
   "source": [
    "import numpy as np\n",
    "import pandas as pd\n",
    "import matplotlib.pyplot as plt\n",
    "import seaborn as sns\n",
    "from numpy.linalg import svd, matrix_rank\n",
    "from pandas import DataFrame as DF"
   ]
  },
  {
   "cell_type": "code",
   "execution_count": 71,
   "id": "9fb5e384",
   "metadata": {},
   "outputs": [
    {
     "data": {
      "text/html": [
       "<div>\n",
       "<style scoped>\n",
       "    .dataframe tbody tr th:only-of-type {\n",
       "        vertical-align: middle;\n",
       "    }\n",
       "\n",
       "    .dataframe tbody tr th {\n",
       "        vertical-align: top;\n",
       "    }\n",
       "\n",
       "    .dataframe thead th {\n",
       "        text-align: right;\n",
       "    }\n",
       "</style>\n",
       "<table border=\"1\" class=\"dataframe\">\n",
       "  <thead>\n",
       "    <tr style=\"text-align: right;\">\n",
       "      <th></th>\n",
       "      <th>a1</th>\n",
       "      <th>a2</th>\n",
       "      <th>a3</th>\n",
       "      <th>a4</th>\n",
       "    </tr>\n",
       "  </thead>\n",
       "  <tbody>\n",
       "    <tr>\n",
       "      <th>b1</th>\n",
       "      <td>0.130559</td>\n",
       "      <td>0.045040</td>\n",
       "      <td>0.037058</td>\n",
       "      <td>0.022805</td>\n",
       "    </tr>\n",
       "    <tr>\n",
       "      <th>b2</th>\n",
       "      <td>0.173318</td>\n",
       "      <td>0.043900</td>\n",
       "      <td>0.031927</td>\n",
       "      <td>0.015393</td>\n",
       "    </tr>\n",
       "    <tr>\n",
       "      <th>b3</th>\n",
       "      <td>0.036488</td>\n",
       "      <td>0.022805</td>\n",
       "      <td>0.019954</td>\n",
       "      <td>0.011973</td>\n",
       "    </tr>\n",
       "    <tr>\n",
       "      <th>b4</th>\n",
       "      <td>0.087229</td>\n",
       "      <td>0.033637</td>\n",
       "      <td>0.026226</td>\n",
       "      <td>0.018244</td>\n",
       "    </tr>\n",
       "    <tr>\n",
       "      <th>b5</th>\n",
       "      <td>0.180160</td>\n",
       "      <td>0.032497</td>\n",
       "      <td>0.022805</td>\n",
       "      <td>0.007982</td>\n",
       "    </tr>\n",
       "  </tbody>\n",
       "</table>\n",
       "</div>"
      ],
      "text/plain": [
       "          a1        a2        a3        a4\n",
       "b1  0.130559  0.045040  0.037058  0.022805\n",
       "b2  0.173318  0.043900  0.031927  0.015393\n",
       "b3  0.036488  0.022805  0.019954  0.011973\n",
       "b4  0.087229  0.033637  0.026226  0.018244\n",
       "b5  0.180160  0.032497  0.022805  0.007982"
      ]
     },
     "execution_count": 71,
     "metadata": {},
     "output_type": "execute_result"
    }
   ],
   "source": [
    "df_P = pd.read_clipboard()\n",
    "df_P"
   ]
  },
  {
   "cell_type": "code",
   "execution_count": 72,
   "id": "221f94c7",
   "metadata": {},
   "outputs": [
    {
     "data": {
      "text/html": [
       "<div>\n",
       "<style scoped>\n",
       "    .dataframe tbody tr th:only-of-type {\n",
       "        vertical-align: middle;\n",
       "    }\n",
       "\n",
       "    .dataframe tbody tr th {\n",
       "        vertical-align: top;\n",
       "    }\n",
       "\n",
       "    .dataframe thead th {\n",
       "        text-align: right;\n",
       "    }\n",
       "</style>\n",
       "<table border=\"1\" class=\"dataframe\">\n",
       "  <thead>\n",
       "    <tr style=\"text-align: right;\">\n",
       "      <th></th>\n",
       "      <th>a1</th>\n",
       "      <th>a2</th>\n",
       "      <th>a3</th>\n",
       "      <th>a4</th>\n",
       "      <th>r</th>\n",
       "    </tr>\n",
       "  </thead>\n",
       "  <tbody>\n",
       "    <tr>\n",
       "      <th>b1</th>\n",
       "      <td>0.130559</td>\n",
       "      <td>0.045040</td>\n",
       "      <td>0.037058</td>\n",
       "      <td>0.022805</td>\n",
       "      <td>0.235462</td>\n",
       "    </tr>\n",
       "    <tr>\n",
       "      <th>b2</th>\n",
       "      <td>0.173318</td>\n",
       "      <td>0.043900</td>\n",
       "      <td>0.031927</td>\n",
       "      <td>0.015393</td>\n",
       "      <td>0.264538</td>\n",
       "    </tr>\n",
       "    <tr>\n",
       "      <th>b3</th>\n",
       "      <td>0.036488</td>\n",
       "      <td>0.022805</td>\n",
       "      <td>0.019954</td>\n",
       "      <td>0.011973</td>\n",
       "      <td>0.091220</td>\n",
       "    </tr>\n",
       "    <tr>\n",
       "      <th>b4</th>\n",
       "      <td>0.087229</td>\n",
       "      <td>0.033637</td>\n",
       "      <td>0.026226</td>\n",
       "      <td>0.018244</td>\n",
       "      <td>0.165336</td>\n",
       "    </tr>\n",
       "    <tr>\n",
       "      <th>b5</th>\n",
       "      <td>0.180160</td>\n",
       "      <td>0.032497</td>\n",
       "      <td>0.022805</td>\n",
       "      <td>0.007982</td>\n",
       "      <td>0.243444</td>\n",
       "    </tr>\n",
       "    <tr>\n",
       "      <th>c</th>\n",
       "      <td>0.607754</td>\n",
       "      <td>0.177879</td>\n",
       "      <td>0.137970</td>\n",
       "      <td>0.076397</td>\n",
       "      <td>1.000000</td>\n",
       "    </tr>\n",
       "  </tbody>\n",
       "</table>\n",
       "</div>"
      ],
      "text/plain": [
       "          a1        a2        a3        a4         r\n",
       "b1  0.130559  0.045040  0.037058  0.022805  0.235462\n",
       "b2  0.173318  0.043900  0.031927  0.015393  0.264538\n",
       "b3  0.036488  0.022805  0.019954  0.011973  0.091220\n",
       "b4  0.087229  0.033637  0.026226  0.018244  0.165336\n",
       "b5  0.180160  0.032497  0.022805  0.007982  0.243444\n",
       "c   0.607754  0.177879  0.137970  0.076397  1.000000"
      ]
     },
     "execution_count": 72,
     "metadata": {},
     "output_type": "execute_result"
    }
   ],
   "source": [
    "df_data = pd.read_clipboard()\n",
    "df_data"
   ]
  },
  {
   "cell_type": "code",
   "execution_count": 73,
   "id": "fab54bd0",
   "metadata": {},
   "outputs": [
    {
     "data": {
      "text/plain": [
       "array([[0.13055872, 0.04503991, 0.03705815, 0.02280502],\n",
       "       [0.17331813, 0.04389966, 0.03192702, 0.01539339],\n",
       "       [0.03648803, 0.02280502, 0.01995439, 0.01197263],\n",
       "       [0.08722919, 0.0336374 , 0.02622577, 0.01824401],\n",
       "       [0.18015964, 0.03249715, 0.02280502, 0.00798176]])"
      ]
     },
     "execution_count": 73,
     "metadata": {},
     "output_type": "execute_result"
    }
   ],
   "source": [
    "P = df_P.values\n",
    "P"
   ]
  },
  {
   "cell_type": "code",
   "execution_count": 74,
   "id": "df6840df",
   "metadata": {},
   "outputs": [
    {
     "name": "stdout",
     "output_type": "stream",
     "text": [
      "[[2.06081861 0.         0.         0.         0.        ]\n",
      " [0.         1.94426655 0.         0.         0.        ]\n",
      " [0.         0.         3.31096663 0.         0.        ]\n",
      " [0.         0.         0.         2.45932427 0.        ]\n",
      " [0.         0.         0.         0.         2.02675315]]\n",
      "[[1.28273278 0.         0.         0.        ]\n",
      " [0.         2.37103245 0.         0.        ]\n",
      " [0.         0.         2.69219871 0.        ]\n",
      " [0.         0.         0.         3.61794863]]\n"
     ]
    }
   ],
   "source": [
    "r = df_data.loc[:\"b5\",\"r\"].values\n",
    "c = df_data.loc[\"c\",:\"a4\"].values\n",
    "\n",
    "Dr = np.diag(1/np.sqrt(r))\n",
    "Dc = np.diag(1/np.sqrt(c))\n",
    "\"\"\"\n",
    "Dr = np.diag(r)\n",
    "Dc = np.diag(c)\n",
    "\"\"\"\n",
    "print(Dr)\n",
    "print(Dc)\n",
    "\n",
    "r =np.array([r]).T\n",
    "c =np.array([c])"
   ]
  },
  {
   "cell_type": "code",
   "execution_count": 67,
   "id": "f48e3143",
   "metadata": {
    "collapsed": true
   },
   "outputs": [
    {
     "name": "stderr",
     "output_type": "stream",
     "text": [
      "<ipython-input-67-be40c623fc99>:1: RuntimeWarning: divide by zero encountered in power\n",
      "  _Dr = Dr**(-(1/2))\n"
     ]
    },
    {
     "data": {
      "text/plain": [
       "array([[2.04193328,        inf,        inf,        inf,        inf],\n",
       "       [       inf, 1.9264493 ,        inf,        inf,        inf],\n",
       "       [       inf,        inf, 3.66785019,        inf,        inf],\n",
       "       [       inf,        inf,        inf, 2.43678703,        inf],\n",
       "       [       inf,        inf,        inf,        inf, 2.00817999]])"
      ]
     },
     "execution_count": 67,
     "metadata": {},
     "output_type": "execute_result"
    }
   ],
   "source": [
    "_Dr = Dr**(-(1/2))\n",
    "_Dr"
   ]
  },
  {
   "cell_type": "code",
   "execution_count": 36,
   "id": "f3702d3e",
   "metadata": {
    "collapsed": true
   },
   "outputs": [
    {
     "name": "stderr",
     "output_type": "stream",
     "text": [
      "<ipython-input-36-90810beb343d>:1: RuntimeWarning: divide by zero encountered in true_divide\n",
      "  S = ((1/np.sqrt(Dr)).dot(P-r.dot(c))).dot(1/np.sqrt(Dc))\n"
     ]
    }
   ],
   "source": [
    "S = ((1/np.sqrt(Dr)).dot(P-r.dot(c))).dot(1/np.sqrt(Dc))"
   ]
  },
  {
   "cell_type": "code",
   "execution_count": 75,
   "id": "3e222d52",
   "metadata": {},
   "outputs": [],
   "source": [
    "S = Dr.dot(P-r.dot(c)).dot(Dc)"
   ]
  },
  {
   "cell_type": "code",
   "execution_count": 76,
   "id": "202efa91",
   "metadata": {},
   "outputs": [
    {
     "data": {
      "text/plain": [
       "array([[-0.03315997,  0.01542188,  0.02536276,  0.03591142],\n",
       "       [ 0.03128456, -0.01454968, -0.02392834, -0.0338804 ],\n",
       "       [-0.08048782,  0.05164683,  0.06568319,  0.059939  ],\n",
       "       [-0.04181371,  0.02465119,  0.02260573,  0.04994144],\n",
       "       [ 0.08372837, -0.05193003, -0.05883647, -0.07784789]])"
      ]
     },
     "execution_count": 76,
     "metadata": {},
     "output_type": "execute_result"
    }
   ],
   "source": [
    "S"
   ]
  },
  {
   "cell_type": "code",
   "execution_count": 77,
   "id": "65b64dc0",
   "metadata": {},
   "outputs": [
    {
     "name": "stdout",
     "output_type": "stream",
     "text": [
      "matrix S\n",
      " [[-0.03315997  0.01542188  0.02536276  0.03591142]\n",
      " [ 0.03128456 -0.01454968 -0.02392834 -0.0338804 ]\n",
      " [-0.08048782  0.05164683  0.06568319  0.059939  ]\n",
      " [-0.04181371  0.02465119  0.02260573  0.04994144]\n",
      " [ 0.08372837 -0.05193003 -0.05883647 -0.07784789]]\n",
      "rank:  4\n"
     ]
    }
   ],
   "source": [
    "print('matrix S\\n', S)\n",
    "print('rank: ', matrix_rank(S))"
   ]
  },
  {
   "cell_type": "code",
   "execution_count": 78,
   "id": "8c2a75fb",
   "metadata": {},
   "outputs": [
    {
     "name": "stdout",
     "output_type": "stream",
     "text": [
      "\n",
      "SVD result\n",
      "shape of u, s, vh: (5, 5) (4,) (4, 4)\n",
      "singular values: [0.22 0.02 0.01 0.  ]\n"
     ]
    }
   ],
   "source": [
    "# singular value decomposition\n",
    "u, s, vh = svd(S)\n",
    "print('\\nSVD result')\n",
    "print('shape of u, s, vh:', u.shape, s.shape, vh.shape)\n",
    "print('singular values:', s.round(2))"
   ]
  },
  {
   "cell_type": "code",
   "execution_count": 79,
   "id": "e0f98117",
   "metadata": {},
   "outputs": [
    {
     "name": "stdout",
     "output_type": "stream",
     "text": [
      "\n",
      "SVD result　(full_matrices: False)\n",
      "shape of u, s, vh: (5, 4) (4,) (4, 4)\n"
     ]
    }
   ],
   "source": [
    "# full_matrices=Falseの場合\n",
    "u, s, vh = svd(S, full_matrices=False)\n",
    "print('\\nSVD result　(full_matrices: False)')\n",
    "print('shape of u, s, vh:', u.shape, s.shape, vh.shape)"
   ]
  },
  {
   "cell_type": "code",
   "execution_count": 80,
   "id": "aa382bd4",
   "metadata": {},
   "outputs": [
    {
     "data": {
      "text/plain": [
       "array([[-0.26084112,  0.24504617, -0.63323827,  0.65102334],\n",
       "       [ 0.24608892, -0.23118726,  0.5974247 ,  0.69004983],\n",
       "       [-0.59665093, -0.67917357, -0.01705183, -0.1350703 ],\n",
       "       [-0.33029439,  0.64214927,  0.38454788, -0.18184399],\n",
       "       [ 0.63742876, -0.1134566 , -0.30647215, -0.22065498]])"
      ]
     },
     "execution_count": 80,
     "metadata": {},
     "output_type": "execute_result"
    }
   ],
   "source": [
    "u"
   ]
  },
  {
   "cell_type": "code",
   "execution_count": 81,
   "id": "430d751d",
   "metadata": {},
   "outputs": [
    {
     "data": {
      "text/plain": [
       "array([[ 0.60490112, -0.36629862, -0.44447892, -0.54987129],\n",
       "       [ 0.13686675, -0.28759429, -0.54028558,  0.77887644],\n",
       "       [-0.08722604,  0.77796906, -0.61037654, -0.12081485],\n",
       "       [ 0.77958562,  0.42175701,  0.37144374,  0.27639976]])"
      ]
     },
     "execution_count": 81,
     "metadata": {},
     "output_type": "execute_result"
    }
   ],
   "source": [
    "vh"
   ]
  },
  {
   "cell_type": "code",
   "execution_count": 82,
   "id": "15d3068d",
   "metadata": {},
   "outputs": [
    {
     "data": {
      "text/plain": [
       "array([2.17478696e-01, 2.16027906e-02, 7.78428977e-03, 2.23606782e-09])"
      ]
     },
     "execution_count": 82,
     "metadata": {},
     "output_type": "execute_result"
    }
   ],
   "source": [
    "s"
   ]
  },
  {
   "cell_type": "code",
   "execution_count": 100,
   "id": "e091f877",
   "metadata": {},
   "outputs": [
    {
     "ename": "LinAlgError",
     "evalue": "Last 2 dimensions of the array must be square",
     "output_type": "error",
     "traceback": [
      "\u001b[1;31m---------------------------------------------------------------------------\u001b[0m",
      "\u001b[1;31mLinAlgError\u001b[0m                               Traceback (most recent call last)",
      "\u001b[1;32m<ipython-input-100-4aaba73ef031>\u001b[0m in \u001b[0;36m<module>\u001b[1;34m\u001b[0m\n\u001b[1;32m----> 1\u001b[1;33m \u001b[0meig_val\u001b[0m\u001b[1;33m,\u001b[0m \u001b[0meig_vec\u001b[0m \u001b[1;33m=\u001b[0m\u001b[0mnp\u001b[0m\u001b[1;33m.\u001b[0m\u001b[0mlinalg\u001b[0m\u001b[1;33m.\u001b[0m\u001b[0meig\u001b[0m\u001b[1;33m(\u001b[0m\u001b[0mu\u001b[0m\u001b[1;33m)\u001b[0m \u001b[1;31m# 固有値・固有ベクトルをそれぞれeig_val, eig_vecに格納する\u001b[0m\u001b[1;33m\u001b[0m\u001b[1;33m\u001b[0m\u001b[0m\n\u001b[0m\u001b[0;32m      2\u001b[0m \u001b[1;32mfor\u001b[0m \u001b[0mi\u001b[0m \u001b[1;32min\u001b[0m \u001b[0mrange\u001b[0m\u001b[1;33m(\u001b[0m\u001b[0mlen\u001b[0m\u001b[1;33m(\u001b[0m\u001b[0meig_vec\u001b[0m\u001b[1;33m)\u001b[0m\u001b[1;33m)\u001b[0m\u001b[1;33m:\u001b[0m\u001b[1;33m\u001b[0m\u001b[1;33m\u001b[0m\u001b[0m\n\u001b[0;32m      3\u001b[0m     \u001b[0meig_vec\u001b[0m \u001b[1;33m[\u001b[0m\u001b[0mi\u001b[0m\u001b[1;33m]\u001b[0m \u001b[1;33m=\u001b[0m \u001b[0meig_vec\u001b[0m\u001b[1;33m[\u001b[0m\u001b[0mi\u001b[0m\u001b[1;33m]\u001b[0m\u001b[1;33m/\u001b[0m\u001b[0mnp\u001b[0m\u001b[1;33m.\u001b[0m\u001b[0mlinalg\u001b[0m\u001b[1;33m.\u001b[0m\u001b[0mnorm\u001b[0m\u001b[1;33m(\u001b[0m\u001b[0meig_vec\u001b[0m\u001b[1;33m[\u001b[0m\u001b[0mi\u001b[0m\u001b[1;33m]\u001b[0m\u001b[1;33m)\u001b[0m\u001b[1;33m\u001b[0m\u001b[1;33m\u001b[0m\u001b[0m\n\u001b[0;32m      4\u001b[0m \u001b[1;33m\u001b[0m\u001b[0m\n\u001b[0;32m      5\u001b[0m \u001b[1;31m#計算結果の出力\u001b[0m\u001b[1;33m\u001b[0m\u001b[1;33m\u001b[0m\u001b[1;33m\u001b[0m\u001b[0m\n",
      "\u001b[1;32m<__array_function__ internals>\u001b[0m in \u001b[0;36meig\u001b[1;34m(*args, **kwargs)\u001b[0m\n",
      "\u001b[1;32m~\\anaconda3\\envs\\urban_reserch\\lib\\site-packages\\numpy\\linalg\\linalg.py\u001b[0m in \u001b[0;36meig\u001b[1;34m(a)\u001b[0m\n\u001b[0;32m   1315\u001b[0m     \u001b[0ma\u001b[0m\u001b[1;33m,\u001b[0m \u001b[0mwrap\u001b[0m \u001b[1;33m=\u001b[0m \u001b[0m_makearray\u001b[0m\u001b[1;33m(\u001b[0m\u001b[0ma\u001b[0m\u001b[1;33m)\u001b[0m\u001b[1;33m\u001b[0m\u001b[1;33m\u001b[0m\u001b[0m\n\u001b[0;32m   1316\u001b[0m     \u001b[0m_assert_stacked_2d\u001b[0m\u001b[1;33m(\u001b[0m\u001b[0ma\u001b[0m\u001b[1;33m)\u001b[0m\u001b[1;33m\u001b[0m\u001b[1;33m\u001b[0m\u001b[0m\n\u001b[1;32m-> 1317\u001b[1;33m     \u001b[0m_assert_stacked_square\u001b[0m\u001b[1;33m(\u001b[0m\u001b[0ma\u001b[0m\u001b[1;33m)\u001b[0m\u001b[1;33m\u001b[0m\u001b[1;33m\u001b[0m\u001b[0m\n\u001b[0m\u001b[0;32m   1318\u001b[0m     \u001b[0m_assert_finite\u001b[0m\u001b[1;33m(\u001b[0m\u001b[0ma\u001b[0m\u001b[1;33m)\u001b[0m\u001b[1;33m\u001b[0m\u001b[1;33m\u001b[0m\u001b[0m\n\u001b[0;32m   1319\u001b[0m     \u001b[0mt\u001b[0m\u001b[1;33m,\u001b[0m \u001b[0mresult_t\u001b[0m \u001b[1;33m=\u001b[0m \u001b[0m_commonType\u001b[0m\u001b[1;33m(\u001b[0m\u001b[0ma\u001b[0m\u001b[1;33m)\u001b[0m\u001b[1;33m\u001b[0m\u001b[1;33m\u001b[0m\u001b[0m\n",
      "\u001b[1;32m~\\anaconda3\\envs\\urban_reserch\\lib\\site-packages\\numpy\\linalg\\linalg.py\u001b[0m in \u001b[0;36m_assert_stacked_square\u001b[1;34m(*arrays)\u001b[0m\n\u001b[0;32m    202\u001b[0m         \u001b[0mm\u001b[0m\u001b[1;33m,\u001b[0m \u001b[0mn\u001b[0m \u001b[1;33m=\u001b[0m \u001b[0ma\u001b[0m\u001b[1;33m.\u001b[0m\u001b[0mshape\u001b[0m\u001b[1;33m[\u001b[0m\u001b[1;33m-\u001b[0m\u001b[1;36m2\u001b[0m\u001b[1;33m:\u001b[0m\u001b[1;33m]\u001b[0m\u001b[1;33m\u001b[0m\u001b[1;33m\u001b[0m\u001b[0m\n\u001b[0;32m    203\u001b[0m         \u001b[1;32mif\u001b[0m \u001b[0mm\u001b[0m \u001b[1;33m!=\u001b[0m \u001b[0mn\u001b[0m\u001b[1;33m:\u001b[0m\u001b[1;33m\u001b[0m\u001b[1;33m\u001b[0m\u001b[0m\n\u001b[1;32m--> 204\u001b[1;33m             \u001b[1;32mraise\u001b[0m \u001b[0mLinAlgError\u001b[0m\u001b[1;33m(\u001b[0m\u001b[1;34m'Last 2 dimensions of the array must be square'\u001b[0m\u001b[1;33m)\u001b[0m\u001b[1;33m\u001b[0m\u001b[1;33m\u001b[0m\u001b[0m\n\u001b[0m\u001b[0;32m    205\u001b[0m \u001b[1;33m\u001b[0m\u001b[0m\n\u001b[0;32m    206\u001b[0m \u001b[1;32mdef\u001b[0m \u001b[0m_assert_finite\u001b[0m\u001b[1;33m(\u001b[0m\u001b[1;33m*\u001b[0m\u001b[0marrays\u001b[0m\u001b[1;33m)\u001b[0m\u001b[1;33m:\u001b[0m\u001b[1;33m\u001b[0m\u001b[1;33m\u001b[0m\u001b[0m\n",
      "\u001b[1;31mLinAlgError\u001b[0m: Last 2 dimensions of the array must be square"
     ]
    }
   ],
   "source": [
    "eig_val, eig_vec =np.linalg.eig(u) # 固有値・固有ベクトルをそれぞれeig_val, eig_vecに格納する\n",
    "for i in range(len(eig_vec)):\n",
    "    eig_vec [i] = eig_vec[i]/np.linalg.norm(eig_vec[i])\n",
    "\n",
    "#計算結果の出力\n",
    "eig_val"
   ]
  },
  {
   "cell_type": "code",
   "execution_count": 96,
   "id": "41d5fe7e",
   "metadata": {},
   "outputs": [
    {
     "data": {
      "text/plain": [
       "array([[-0.6874+0.j    , -0.6874+0.j    ,  0.1415+0.086j ,\n",
       "         0.1415-0.086j ],\n",
       "       [ 0.061 +0.3778j,  0.061 -0.3778j, -0.0632+0.5912j,\n",
       "        -0.0632-0.5912j],\n",
       "       [ 0.1413+0.0922j,  0.1413-0.0922j,  0.6867+0.j    ,\n",
       "         0.6867-0.j    ],\n",
       "       [-0.0611+0.5906j, -0.0611-0.5906j, -0.0667-0.3782j,\n",
       "        -0.0667+0.3782j]])"
      ]
     },
     "execution_count": 96,
     "metadata": {},
     "output_type": "execute_result"
    }
   ],
   "source": [
    "eig_vec"
   ]
  },
  {
   "cell_type": "code",
   "execution_count": 98,
   "id": "6f8eef44",
   "metadata": {},
   "outputs": [
    {
     "name": "stderr",
     "output_type": "stream",
     "text": [
      "<ipython-input-98-63609f406143>:1: ComplexWarning: Casting complex values to real discards the imaginary part\n",
      "  a = np.array(eig_vec, dtype=float)\n"
     ]
    },
    {
     "data": {
      "text/plain": [
       "array([[-0.6874, -0.6874,  0.1415,  0.1415],\n",
       "       [ 0.061 ,  0.061 , -0.0632, -0.0632],\n",
       "       [ 0.1413,  0.1413,  0.6867,  0.6867],\n",
       "       [-0.0611, -0.0611, -0.0667, -0.0667]])"
      ]
     },
     "execution_count": 98,
     "metadata": {},
     "output_type": "execute_result"
    }
   ],
   "source": [
    "a = np.array(eig_vec, dtype=float)\n",
    "a"
   ]
  },
  {
   "cell_type": "code",
   "execution_count": 99,
   "id": "6602b011",
   "metadata": {},
   "outputs": [
    {
     "data": {
      "text/html": [
       "<div>\n",
       "<style scoped>\n",
       "    .dataframe tbody tr th:only-of-type {\n",
       "        vertical-align: middle;\n",
       "    }\n",
       "\n",
       "    .dataframe tbody tr th {\n",
       "        vertical-align: top;\n",
       "    }\n",
       "\n",
       "    .dataframe thead th {\n",
       "        text-align: right;\n",
       "    }\n",
       "</style>\n",
       "<table border=\"1\" class=\"dataframe\">\n",
       "  <thead>\n",
       "    <tr style=\"text-align: right;\">\n",
       "      <th></th>\n",
       "      <th>0</th>\n",
       "      <th>1</th>\n",
       "      <th>2</th>\n",
       "      <th>3</th>\n",
       "    </tr>\n",
       "  </thead>\n",
       "  <tbody>\n",
       "    <tr>\n",
       "      <th>0</th>\n",
       "      <td>-0.687445</td>\n",
       "      <td>-0.687445</td>\n",
       "      <td>0.141483</td>\n",
       "      <td>0.141483</td>\n",
       "    </tr>\n",
       "    <tr>\n",
       "      <th>1</th>\n",
       "      <td>0.060983</td>\n",
       "      <td>0.060983</td>\n",
       "      <td>-0.063246</td>\n",
       "      <td>-0.063246</td>\n",
       "    </tr>\n",
       "    <tr>\n",
       "      <th>2</th>\n",
       "      <td>0.141326</td>\n",
       "      <td>0.141326</td>\n",
       "      <td>0.686684</td>\n",
       "      <td>0.686684</td>\n",
       "    </tr>\n",
       "    <tr>\n",
       "      <th>3</th>\n",
       "      <td>-0.061058</td>\n",
       "      <td>-0.061058</td>\n",
       "      <td>-0.066691</td>\n",
       "      <td>-0.066691</td>\n",
       "    </tr>\n",
       "  </tbody>\n",
       "</table>\n",
       "</div>"
      ],
      "text/plain": [
       "          0         1         2         3\n",
       "0 -0.687445 -0.687445  0.141483  0.141483\n",
       "1  0.060983  0.060983 -0.063246 -0.063246\n",
       "2  0.141326  0.141326  0.686684  0.686684\n",
       "3 -0.061058 -0.061058 -0.066691 -0.066691"
      ]
     },
     "execution_count": 99,
     "metadata": {},
     "output_type": "execute_result"
    }
   ],
   "source": [
    "a = DF(a)\n",
    "a"
   ]
  },
  {
   "cell_type": "code",
   "execution_count": 89,
   "id": "e3503704",
   "metadata": {},
   "outputs": [
    {
     "ename": "TypeError",
     "evalue": "type numpy.ndarray doesn't define __round__ method",
     "output_type": "error",
     "traceback": [
      "\u001b[1;31m---------------------------------------------------------------------------\u001b[0m",
      "\u001b[1;31mTypeError\u001b[0m                                 Traceback (most recent call last)",
      "\u001b[1;32m<ipython-input-89-571509a9d3e0>\u001b[0m in \u001b[0;36m<module>\u001b[1;34m\u001b[0m\n\u001b[1;32m----> 1\u001b[1;33m \u001b[0ma\u001b[0m \u001b[1;33m=\u001b[0m \u001b[0mround\u001b[0m\u001b[1;33m(\u001b[0m\u001b[0meig_vec\u001b[0m\u001b[1;33m,\u001b[0m \u001b[1;36m4\u001b[0m\u001b[1;33m)\u001b[0m\u001b[1;33m\u001b[0m\u001b[1;33m\u001b[0m\u001b[0m\n\u001b[0m\u001b[0;32m      2\u001b[0m \u001b[0ma\u001b[0m\u001b[1;33m\u001b[0m\u001b[1;33m\u001b[0m\u001b[0m\n",
      "\u001b[1;31mTypeError\u001b[0m: type numpy.ndarray doesn't define __round__ method"
     ]
    }
   ],
   "source": [
    "a = round(eig_vec, 4)\n",
    "a"
   ]
  },
  {
   "cell_type": "code",
   "execution_count": 95,
   "id": "b55c4ad3",
   "metadata": {},
   "outputs": [],
   "source": [
    "np.set_printoptions(suppress=True)\n",
    "np.set_printoptions(precision=4, floatmode='maxprec')"
   ]
  },
  {
   "cell_type": "code",
   "execution_count": 60,
   "id": "86614ffa",
   "metadata": {},
   "outputs": [
    {
     "name": "stdout",
     "output_type": "stream",
     "text": [
      "\n",
      "reconstructed S:\n",
      " [[-0.04  0.01  0.05  0.03]\n",
      " [ 0.02 -0.02 -0.   -0.04]\n",
      " [-0.04  0.08 -0.08  0.08]\n",
      " [-0.05  0.02  0.04  0.05]\n",
      " [ 0.08 -0.06 -0.04 -0.08]]\n"
     ]
    }
   ],
   "source": [
    "# 復元\n",
    "# A_re = (u @ np.diag(s, -1)[1:] @ vh).round(2)\n",
    "S_re = (u @ np.diag(s) @ vh).round(2)\n",
    "print('\\nreconstructed S:\\n', S_re)"
   ]
  }
 ],
 "metadata": {
  "kernelspec": {
   "display_name": "Python 3",
   "language": "python",
   "name": "python3"
  },
  "language_info": {
   "codemirror_mode": {
    "name": "ipython",
    "version": 3
   },
   "file_extension": ".py",
   "mimetype": "text/x-python",
   "name": "python",
   "nbconvert_exporter": "python",
   "pygments_lexer": "ipython3",
   "version": "3.8.8"
  }
 },
 "nbformat": 4,
 "nbformat_minor": 5
}
