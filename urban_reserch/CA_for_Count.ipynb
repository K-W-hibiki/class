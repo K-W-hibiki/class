{
 "cells": [
  {
   "cell_type": "code",
   "execution_count": 1,
   "id": "4ce89f32",
   "metadata": {},
   "outputs": [],
   "source": [
    "import numpy as np\n",
    "import pandas as pd\n",
    "import matplotlib.pyplot as plt\n",
    "import seaborn as sns\n",
    "from numpy.linalg import svd, matrix_rank\n",
    "from pandas import DataFrame as DF"
   ]
  },
  {
   "cell_type": "code",
   "execution_count": 2,
   "id": "560f510c",
   "metadata": {},
   "outputs": [
    {
     "data": {
      "text/html": [
       "<div>\n",
       "<style scoped>\n",
       "    .dataframe tbody tr th:only-of-type {\n",
       "        vertical-align: middle;\n",
       "    }\n",
       "\n",
       "    .dataframe tbody tr th {\n",
       "        vertical-align: top;\n",
       "    }\n",
       "\n",
       "    .dataframe thead th {\n",
       "        text-align: right;\n",
       "    }\n",
       "</style>\n",
       "<table border=\"1\" class=\"dataframe\">\n",
       "  <thead>\n",
       "    <tr style=\"text-align: right;\">\n",
       "      <th></th>\n",
       "      <th>1986</th>\n",
       "      <th>1992</th>\n",
       "      <th>1998</th>\n",
       "      <th>2004</th>\n",
       "      <th>2011</th>\n",
       "      <th>2017</th>\n",
       "    </tr>\n",
       "  </thead>\n",
       "  <tbody>\n",
       "    <tr>\n",
       "      <th>公園</th>\n",
       "      <td>0.0</td>\n",
       "      <td>0.0</td>\n",
       "      <td>0.000000</td>\n",
       "      <td>0.000151</td>\n",
       "      <td>0.000000</td>\n",
       "      <td>0.000000</td>\n",
       "    </tr>\n",
       "    <tr>\n",
       "      <th>皇族</th>\n",
       "      <td>0.0</td>\n",
       "      <td>0.0</td>\n",
       "      <td>0.000151</td>\n",
       "      <td>0.000000</td>\n",
       "      <td>0.000000</td>\n",
       "      <td>0.000000</td>\n",
       "    </tr>\n",
       "    <tr>\n",
       "      <th>中古住宅市場</th>\n",
       "      <td>0.0</td>\n",
       "      <td>0.0</td>\n",
       "      <td>0.000000</td>\n",
       "      <td>0.000000</td>\n",
       "      <td>0.000000</td>\n",
       "      <td>0.000151</td>\n",
       "    </tr>\n",
       "    <tr>\n",
       "      <th>岩見沢市</th>\n",
       "      <td>0.0</td>\n",
       "      <td>0.0</td>\n",
       "      <td>0.000000</td>\n",
       "      <td>0.000000</td>\n",
       "      <td>0.000000</td>\n",
       "      <td>0.000151</td>\n",
       "    </tr>\n",
       "    <tr>\n",
       "      <th>経験</th>\n",
       "      <td>0.0</td>\n",
       "      <td>0.0</td>\n",
       "      <td>0.000000</td>\n",
       "      <td>0.000000</td>\n",
       "      <td>0.000151</td>\n",
       "      <td>0.000000</td>\n",
       "    </tr>\n",
       "    <tr>\n",
       "      <th>...</th>\n",
       "      <td>...</td>\n",
       "      <td>...</td>\n",
       "      <td>...</td>\n",
       "      <td>...</td>\n",
       "      <td>...</td>\n",
       "      <td>...</td>\n",
       "    </tr>\n",
       "    <tr>\n",
       "      <th>上田市</th>\n",
       "      <td>0.0</td>\n",
       "      <td>0.0</td>\n",
       "      <td>0.000000</td>\n",
       "      <td>0.000000</td>\n",
       "      <td>0.000151</td>\n",
       "      <td>0.000000</td>\n",
       "    </tr>\n",
       "    <tr>\n",
       "      <th>復興都市計画</th>\n",
       "      <td>0.0</td>\n",
       "      <td>0.0</td>\n",
       "      <td>0.000151</td>\n",
       "      <td>0.000000</td>\n",
       "      <td>0.000000</td>\n",
       "      <td>0.000000</td>\n",
       "    </tr>\n",
       "    <tr>\n",
       "      <th>複数</th>\n",
       "      <td>0.0</td>\n",
       "      <td>0.0</td>\n",
       "      <td>0.000000</td>\n",
       "      <td>0.000000</td>\n",
       "      <td>0.000000</td>\n",
       "      <td>0.000151</td>\n",
       "    </tr>\n",
       "    <tr>\n",
       "      <th>都市づくり</th>\n",
       "      <td>0.0</td>\n",
       "      <td>0.0</td>\n",
       "      <td>0.000000</td>\n",
       "      <td>0.000000</td>\n",
       "      <td>0.000151</td>\n",
       "      <td>0.000151</td>\n",
       "    </tr>\n",
       "    <tr>\n",
       "      <th>地方行政システム</th>\n",
       "      <td>0.0</td>\n",
       "      <td>0.0</td>\n",
       "      <td>0.000000</td>\n",
       "      <td>0.000151</td>\n",
       "      <td>0.000000</td>\n",
       "      <td>0.000000</td>\n",
       "    </tr>\n",
       "  </tbody>\n",
       "</table>\n",
       "<p>3280 rows × 6 columns</p>\n",
       "</div>"
      ],
      "text/plain": [
       "          1986  1992      1998      2004      2011      2017\n",
       "公園         0.0   0.0  0.000000  0.000151  0.000000  0.000000\n",
       "皇族         0.0   0.0  0.000151  0.000000  0.000000  0.000000\n",
       "中古住宅市場     0.0   0.0  0.000000  0.000000  0.000000  0.000151\n",
       "岩見沢市       0.0   0.0  0.000000  0.000000  0.000000  0.000151\n",
       "経験         0.0   0.0  0.000000  0.000000  0.000151  0.000000\n",
       "...        ...   ...       ...       ...       ...       ...\n",
       "上田市        0.0   0.0  0.000000  0.000000  0.000151  0.000000\n",
       "復興都市計画     0.0   0.0  0.000151  0.000000  0.000000  0.000000\n",
       "複数         0.0   0.0  0.000000  0.000000  0.000000  0.000151\n",
       "都市づくり      0.0   0.0  0.000000  0.000000  0.000151  0.000151\n",
       "地方行政システム   0.0   0.0  0.000000  0.000151  0.000000  0.000000\n",
       "\n",
       "[3280 rows x 6 columns]"
      ]
     },
     "execution_count": 2,
     "metadata": {},
     "output_type": "execute_result"
    }
   ],
   "source": [
    "df_P = pd.read_clipboard()\n",
    "df_P"
   ]
  },
  {
   "cell_type": "code",
   "execution_count": 3,
   "id": "9890b94c",
   "metadata": {},
   "outputs": [
    {
     "data": {
      "text/html": [
       "<div>\n",
       "<style scoped>\n",
       "    .dataframe tbody tr th:only-of-type {\n",
       "        vertical-align: middle;\n",
       "    }\n",
       "\n",
       "    .dataframe tbody tr th {\n",
       "        vertical-align: top;\n",
       "    }\n",
       "\n",
       "    .dataframe thead th {\n",
       "        text-align: right;\n",
       "    }\n",
       "</style>\n",
       "<table border=\"1\" class=\"dataframe\">\n",
       "  <thead>\n",
       "    <tr style=\"text-align: right;\">\n",
       "      <th></th>\n",
       "      <th>1986</th>\n",
       "      <th>1992</th>\n",
       "      <th>1998</th>\n",
       "      <th>2004</th>\n",
       "      <th>2011</th>\n",
       "      <th>2017</th>\n",
       "      <th>r</th>\n",
       "    </tr>\n",
       "  </thead>\n",
       "  <tbody>\n",
       "    <tr>\n",
       "      <th>公園</th>\n",
       "      <td>0.000000</td>\n",
       "      <td>0.000000</td>\n",
       "      <td>0.000000</td>\n",
       "      <td>0.000151</td>\n",
       "      <td>0.000000</td>\n",
       "      <td>0.000000</td>\n",
       "      <td>0.000151</td>\n",
       "    </tr>\n",
       "    <tr>\n",
       "      <th>皇族</th>\n",
       "      <td>0.000000</td>\n",
       "      <td>0.000000</td>\n",
       "      <td>0.000151</td>\n",
       "      <td>0.000000</td>\n",
       "      <td>0.000000</td>\n",
       "      <td>0.000000</td>\n",
       "      <td>0.000151</td>\n",
       "    </tr>\n",
       "    <tr>\n",
       "      <th>中古住宅市場</th>\n",
       "      <td>0.000000</td>\n",
       "      <td>0.000000</td>\n",
       "      <td>0.000000</td>\n",
       "      <td>0.000000</td>\n",
       "      <td>0.000000</td>\n",
       "      <td>0.000151</td>\n",
       "      <td>0.000151</td>\n",
       "    </tr>\n",
       "    <tr>\n",
       "      <th>岩見沢市</th>\n",
       "      <td>0.000000</td>\n",
       "      <td>0.000000</td>\n",
       "      <td>0.000000</td>\n",
       "      <td>0.000000</td>\n",
       "      <td>0.000000</td>\n",
       "      <td>0.000151</td>\n",
       "      <td>0.000151</td>\n",
       "    </tr>\n",
       "    <tr>\n",
       "      <th>経験</th>\n",
       "      <td>0.000000</td>\n",
       "      <td>0.000000</td>\n",
       "      <td>0.000000</td>\n",
       "      <td>0.000000</td>\n",
       "      <td>0.000151</td>\n",
       "      <td>0.000000</td>\n",
       "      <td>0.000151</td>\n",
       "    </tr>\n",
       "    <tr>\n",
       "      <th>...</th>\n",
       "      <td>...</td>\n",
       "      <td>...</td>\n",
       "      <td>...</td>\n",
       "      <td>...</td>\n",
       "      <td>...</td>\n",
       "      <td>...</td>\n",
       "      <td>...</td>\n",
       "    </tr>\n",
       "    <tr>\n",
       "      <th>復興都市計画</th>\n",
       "      <td>0.000000</td>\n",
       "      <td>0.000000</td>\n",
       "      <td>0.000151</td>\n",
       "      <td>0.000000</td>\n",
       "      <td>0.000000</td>\n",
       "      <td>0.000000</td>\n",
       "      <td>0.000151</td>\n",
       "    </tr>\n",
       "    <tr>\n",
       "      <th>複数</th>\n",
       "      <td>0.000000</td>\n",
       "      <td>0.000000</td>\n",
       "      <td>0.000000</td>\n",
       "      <td>0.000000</td>\n",
       "      <td>0.000000</td>\n",
       "      <td>0.000151</td>\n",
       "      <td>0.000151</td>\n",
       "    </tr>\n",
       "    <tr>\n",
       "      <th>都市づくり</th>\n",
       "      <td>0.000000</td>\n",
       "      <td>0.000000</td>\n",
       "      <td>0.000000</td>\n",
       "      <td>0.000000</td>\n",
       "      <td>0.000151</td>\n",
       "      <td>0.000151</td>\n",
       "      <td>0.000302</td>\n",
       "    </tr>\n",
       "    <tr>\n",
       "      <th>地方行政システム</th>\n",
       "      <td>0.000000</td>\n",
       "      <td>0.000000</td>\n",
       "      <td>0.000000</td>\n",
       "      <td>0.000151</td>\n",
       "      <td>0.000000</td>\n",
       "      <td>0.000000</td>\n",
       "      <td>0.000151</td>\n",
       "    </tr>\n",
       "    <tr>\n",
       "      <th>c</th>\n",
       "      <td>0.080713</td>\n",
       "      <td>0.131197</td>\n",
       "      <td>0.165357</td>\n",
       "      <td>0.203446</td>\n",
       "      <td>0.206469</td>\n",
       "      <td>0.212817</td>\n",
       "      <td>1.000000</td>\n",
       "    </tr>\n",
       "  </tbody>\n",
       "</table>\n",
       "<p>3281 rows × 7 columns</p>\n",
       "</div>"
      ],
      "text/plain": [
       "              1986      1992      1998      2004      2011      2017         r\n",
       "公園        0.000000  0.000000  0.000000  0.000151  0.000000  0.000000  0.000151\n",
       "皇族        0.000000  0.000000  0.000151  0.000000  0.000000  0.000000  0.000151\n",
       "中古住宅市場    0.000000  0.000000  0.000000  0.000000  0.000000  0.000151  0.000151\n",
       "岩見沢市      0.000000  0.000000  0.000000  0.000000  0.000000  0.000151  0.000151\n",
       "経験        0.000000  0.000000  0.000000  0.000000  0.000151  0.000000  0.000151\n",
       "...            ...       ...       ...       ...       ...       ...       ...\n",
       "復興都市計画    0.000000  0.000000  0.000151  0.000000  0.000000  0.000000  0.000151\n",
       "複数        0.000000  0.000000  0.000000  0.000000  0.000000  0.000151  0.000151\n",
       "都市づくり     0.000000  0.000000  0.000000  0.000000  0.000151  0.000151  0.000302\n",
       "地方行政システム  0.000000  0.000000  0.000000  0.000151  0.000000  0.000000  0.000151\n",
       "c         0.080713  0.131197  0.165357  0.203446  0.206469  0.212817  1.000000\n",
       "\n",
       "[3281 rows x 7 columns]"
      ]
     },
     "execution_count": 3,
     "metadata": {},
     "output_type": "execute_result"
    }
   ],
   "source": [
    "df_data = pd.read_clipboard()\n",
    "df_data"
   ]
  },
  {
   "cell_type": "code",
   "execution_count": 4,
   "id": "52b030cf",
   "metadata": {},
   "outputs": [
    {
     "data": {
      "text/plain": [
       "array([[0.        , 0.        , 0.        , 0.00015115, 0.        ,\n",
       "        0.        ],\n",
       "       [0.        , 0.        , 0.00015115, 0.        , 0.        ,\n",
       "        0.        ],\n",
       "       [0.        , 0.        , 0.        , 0.        , 0.        ,\n",
       "        0.00015115],\n",
       "       ...,\n",
       "       [0.        , 0.        , 0.        , 0.        , 0.        ,\n",
       "        0.00015115],\n",
       "       [0.        , 0.        , 0.        , 0.        , 0.00015115,\n",
       "        0.00015115],\n",
       "       [0.        , 0.        , 0.        , 0.00015115, 0.        ,\n",
       "        0.        ]])"
      ]
     },
     "execution_count": 4,
     "metadata": {},
     "output_type": "execute_result"
    }
   ],
   "source": [
    "P = df_P.values\n",
    "P"
   ]
  },
  {
   "cell_type": "code",
   "execution_count": 5,
   "id": "07a7cae6",
   "metadata": {},
   "outputs": [
    {
     "name": "stdout",
     "output_type": "stream",
     "text": [
      "[[81.33872508  0.          0.         ...  0.          0.\n",
      "   0.        ]\n",
      " [ 0.         81.33872508  0.         ...  0.          0.\n",
      "   0.        ]\n",
      " [ 0.          0.         81.33872508 ...  0.          0.\n",
      "   0.        ]\n",
      " ...\n",
      " [ 0.          0.          0.         ... 81.33872508  0.\n",
      "   0.        ]\n",
      " [ 0.          0.          0.         ...  0.         57.5152592\n",
      "   0.        ]\n",
      " [ 0.          0.          0.         ...  0.          0.\n",
      "  81.33872508]]\n",
      "[[3.51987402 0.         0.         0.         0.         0.        ]\n",
      " [0.         2.76081869 0.         0.         0.         0.        ]\n",
      " [0.         0.         2.45917303 0.         0.         0.        ]\n",
      " [0.         0.         0.         2.21704863 0.         0.        ]\n",
      " [0.         0.         0.         0.         2.20075855 0.        ]\n",
      " [0.         0.         0.         0.         0.         2.16768624]]\n"
     ]
    }
   ],
   "source": [
    "r = df_data.loc[:\"地方行政システム\",\"r\"].values\n",
    "c = df_data.loc[\"c\",:\"2017\"].values\n",
    "\n",
    "Dr = np.diag(1/np.sqrt(r))\n",
    "Dc = np.diag(1/np.sqrt(c))\n",
    "\"\"\"\n",
    "Dr = np.diag(r)\n",
    "Dc = np.diag(c)\n",
    "\"\"\"\n",
    "print(Dr)\n",
    "print(Dc)\n",
    "\n",
    "r =np.array([r]).T\n",
    "c =np.array([c])"
   ]
  },
  {
   "cell_type": "code",
   "execution_count": 36,
   "id": "129bdab9",
   "metadata": {
    "collapsed": true
   },
   "outputs": [
    {
     "name": "stderr",
     "output_type": "stream",
     "text": [
      "<ipython-input-36-90810beb343d>:1: RuntimeWarning: divide by zero encountered in true_divide\n",
      "  S = ((1/np.sqrt(Dr)).dot(P-r.dot(c))).dot(1/np.sqrt(Dc))\n"
     ]
    }
   ],
   "source": [
    "S = ((1/np.sqrt(Dr)).dot(P-r.dot(c))).dot(1/np.sqrt(Dc))"
   ]
  },
  {
   "cell_type": "code",
   "execution_count": 6,
   "id": "2ee72a53",
   "metadata": {},
   "outputs": [],
   "source": [
    "S = Dr.dot(P-r.dot(c)).dot(Dc)"
   ]
  },
  {
   "cell_type": "code",
   "execution_count": 7,
   "id": "1d9fd739",
   "metadata": {},
   "outputs": [
    {
     "data": {
      "text/plain": [
       "array([[-0.00349281, -0.00445312, -0.00499935,  0.02171166, -0.00558638,\n",
       "        -0.00567161],\n",
       "       [-0.00349281, -0.00445312,  0.02523438, -0.00554533, -0.00558638,\n",
       "        -0.00567161],\n",
       "       [-0.00349281, -0.00445312, -0.00499935, -0.00554533, -0.00558638,\n",
       "         0.02097851],\n",
       "       ...,\n",
       "       [-0.00349281, -0.00445312, -0.00499935, -0.00554533, -0.00558638,\n",
       "         0.02097851],\n",
       "       [-0.00493958, -0.00629766, -0.00707014, -0.00784227,  0.0112317 ,\n",
       "         0.01082366],\n",
       "       [-0.00349281, -0.00445312, -0.00499935,  0.02171166, -0.00558638,\n",
       "        -0.00567161]])"
      ]
     },
     "execution_count": 7,
     "metadata": {},
     "output_type": "execute_result"
    }
   ],
   "source": [
    "S"
   ]
  },
  {
   "cell_type": "code",
   "execution_count": 8,
   "id": "f6db7933",
   "metadata": {},
   "outputs": [
    {
     "name": "stdout",
     "output_type": "stream",
     "text": [
      "matrix S\n",
      " [[-0.00349281 -0.00445312 -0.00499935  0.02171166 -0.00558638 -0.00567161]\n",
      " [-0.00349281 -0.00445312  0.02523438 -0.00554533 -0.00558638 -0.00567161]\n",
      " [-0.00349281 -0.00445312 -0.00499935 -0.00554533 -0.00558638  0.02097851]\n",
      " ...\n",
      " [-0.00349281 -0.00445312 -0.00499935 -0.00554533 -0.00558638  0.02097851]\n",
      " [-0.00493958 -0.00629766 -0.00707014 -0.00784227  0.0112317   0.01082366]\n",
      " [-0.00349281 -0.00445312 -0.00499935  0.02171166 -0.00558638 -0.00567161]]\n",
      "rank:  6\n"
     ]
    }
   ],
   "source": [
    "print('matrix S\\n', S)\n",
    "print('rank: ', matrix_rank(S))"
   ]
  },
  {
   "cell_type": "code",
   "execution_count": 9,
   "id": "42ceb7b1",
   "metadata": {},
   "outputs": [
    {
     "data": {
      "text/plain": [
       "(3280, 6)"
      ]
     },
     "execution_count": 9,
     "metadata": {},
     "output_type": "execute_result"
    }
   ],
   "source": [
    "S.shape"
   ]
  },
  {
   "cell_type": "code",
   "execution_count": 10,
   "id": "7d031493",
   "metadata": {},
   "outputs": [
    {
     "name": "stdout",
     "output_type": "stream",
     "text": [
      "\n",
      "SVD result\n",
      "shape of u, s, vh: (3280, 3280) (6,) (6, 6)\n",
      "singular values: [0.75 0.73 0.71 0.7  0.7  0.  ]\n"
     ]
    }
   ],
   "source": [
    "# singular value decomposition\n",
    "u, s, vh = svd(S)\n",
    "print('\\nSVD result')\n",
    "print('shape of u, s, vh:', u.shape, s.shape, vh.shape)\n",
    "print('singular values:', s.round(2))"
   ]
  },
  {
   "cell_type": "code",
   "execution_count": 11,
   "id": "5657ad5a",
   "metadata": {},
   "outputs": [
    {
     "name": "stdout",
     "output_type": "stream",
     "text": [
      "\n",
      "SVD result　(full_matrices: False)\n",
      "shape of u, s, vh: (3280, 6) (6,) (6, 6)\n"
     ]
    }
   ],
   "source": [
    "# full_matrices=Falseの場合\n",
    "u, s, vh = svd(S, full_matrices=False)\n",
    "print('\\nSVD result　(full_matrices: False)')\n",
    "print('shape of u, s, vh:', u.shape, s.shape, vh.shape)"
   ]
  },
  {
   "cell_type": "code",
   "execution_count": 14,
   "id": "9c6b3c67",
   "metadata": {},
   "outputs": [
    {
     "data": {
      "text/plain": [
       "array([[-4.54707426e-03,  3.67883940e-03, -1.52445072e-02,\n",
       "        -2.17920063e-02,  2.12662495e-02,  1.02443745e-04],\n",
       "       [ 1.53912673e-03,  1.04931633e-02, -3.57168116e-03,\n",
       "         3.40005144e-02,  1.61713908e-02, -2.68107747e-04],\n",
       "       [-1.03085344e-02, -2.46501405e-02,  1.83513463e-02,\n",
       "         7.93354670e-04,  2.08360486e-03, -2.33915272e-06],\n",
       "       ...,\n",
       "       [-1.03085344e-02, -2.46501405e-02,  1.83513463e-02,\n",
       "         7.93354670e-04,  2.08360486e-03, -2.33933880e-06],\n",
       "       [-1.21499345e-02, -1.80926767e-02, -4.04129224e-04,\n",
       "         2.38434391e-03, -1.79263242e-02, -6.75539376e-02],\n",
       "       [-4.54707426e-03,  3.67883940e-03, -1.52445072e-02,\n",
       "        -2.17920063e-02,  2.12662495e-02,  1.02443469e-04]])"
      ]
     },
     "execution_count": 14,
     "metadata": {},
     "output_type": "execute_result"
    }
   ],
   "source": [
    "u"
   ]
  },
  {
   "cell_type": "code",
   "execution_count": 15,
   "id": "1b2299a7",
   "metadata": {},
   "outputs": [
    {
     "data": {
      "text/plain": [
       "array([[ 0.92863692, -0.00690324,  0.03818126, -0.12511853, -0.19054801,\n",
       "        -0.29011175],\n",
       "       [-0.20909378,  0.65004202,  0.25413946,  0.09883036, -0.02535098,\n",
       "        -0.67729476],\n",
       "       [ 0.00516247,  0.58709244, -0.08419652, -0.39861056, -0.49845418,\n",
       "         0.49077471],\n",
       "       [-0.08937887, -0.22738109,  0.78826579, -0.56040021,  0.06680204,\n",
       "         0.02086638],\n",
       "       [-0.07200433, -0.22320607,  0.3743616 ,  0.54607047, -0.70969042,\n",
       "         0.05472074],\n",
       "       [-0.28410106, -0.36221136, -0.40664077, -0.45105009, -0.45438882,\n",
       "        -0.46132138]])"
      ]
     },
     "execution_count": 15,
     "metadata": {},
     "output_type": "execute_result"
    }
   ],
   "source": [
    "vh"
   ]
  },
  {
   "cell_type": "code",
   "execution_count": 16,
   "id": "4a80afb9",
   "metadata": {},
   "outputs": [
    {
     "data": {
      "text/plain": [
       "array([7.50010705e-01, 7.32246628e-01, 7.12710708e-01, 7.00936895e-01,\n",
       "       6.99899430e-01, 8.62441764e-07])"
      ]
     },
     "execution_count": 16,
     "metadata": {},
     "output_type": "execute_result"
    }
   ],
   "source": [
    "s"
   ]
  },
  {
   "cell_type": "code",
   "execution_count": 18,
   "id": "0f6a042b",
   "metadata": {},
   "outputs": [
    {
     "data": {
      "text/plain": [
       "array([ 0.99507491+0.09912577j,  0.99507491-0.09912577j,\n",
       "       -0.12973123+0.9915492j , -0.12973123-0.9915492j ,\n",
       "       -0.98380848+0.17922298j, -0.98380848-0.17922298j])"
      ]
     },
     "execution_count": 18,
     "metadata": {},
     "output_type": "execute_result"
    }
   ],
   "source": [
    "eig_val, eig_vec =np.linalg.eig(vh) # 固有値・固有ベクトルをそれぞれeig_val, eig_vecに格納する\n",
    "for i in range(len(eig_vec)):\n",
    "    eig_vec [i] = eig_vec[i]/np.linalg.norm(eig_vec[i])\n",
    "\n",
    "#計算結果の出力\n",
    "eig_val"
   ]
  },
  {
   "cell_type": "code",
   "execution_count": 19,
   "id": "aa1e2036",
   "metadata": {},
   "outputs": [
    {
     "data": {
      "text/plain": [
       "array([[ 0.69452766+0.j        ,  0.69452766-0.j        ,\n",
       "         0.04348341+0.00813025j,  0.04348341-0.00813025j,\n",
       "         0.06135419+0.10913334j,  0.06135419-0.10913334j],\n",
       "       [-0.03532113+0.62640496j, -0.03532113-0.62640496j,\n",
       "        -0.17015183+0.12454947j, -0.17015183-0.12454947j,\n",
       "         0.09457801+0.23013045j,  0.09457801-0.23013045j],\n",
       "       [-0.00899798+0.24239752j, -0.00899798-0.24239752j,\n",
       "         0.62476528+0.j        ,  0.62476528-0.j        ,\n",
       "         0.05007983-0.21982455j,  0.05007983+0.21982455j],\n",
       "       [-0.0408262 +0.02993892j, -0.0408262 -0.02993892j,\n",
       "         0.15428448-0.46704635j,  0.15428448+0.46704635j,\n",
       "        -0.30384088+0.40395744j, -0.30384088-0.40395744j],\n",
       "       [-0.0447428 -0.02358311j, -0.0447428 +0.02358311j,\n",
       "        -0.03843264-0.39124423j, -0.03843264+0.39124423j,\n",
       "         0.58557049+0.j        ,  0.58557049-0.j        ],\n",
       "       [-0.11240146-0.21773324j, -0.11240146+0.21773324j,\n",
       "         0.23139819+0.33647733j,  0.23139819-0.33647733j,\n",
       "         0.22264454+0.47289052j,  0.22264454-0.47289052j]])"
      ]
     },
     "execution_count": 19,
     "metadata": {},
     "output_type": "execute_result"
    }
   ],
   "source": [
    "eig_vec"
   ]
  },
  {
   "cell_type": "code",
   "execution_count": 20,
   "id": "998e138a",
   "metadata": {},
   "outputs": [
    {
     "name": "stderr",
     "output_type": "stream",
     "text": [
      "<ipython-input-20-63609f406143>:1: ComplexWarning: Casting complex values to real discards the imaginary part\n",
      "  a = np.array(eig_vec, dtype=float)\n"
     ]
    },
    {
     "data": {
      "text/plain": [
       "array([[ 0.69452766,  0.69452766,  0.04348341,  0.04348341,  0.06135419,\n",
       "         0.06135419],\n",
       "       [-0.03532113, -0.03532113, -0.17015183, -0.17015183,  0.09457801,\n",
       "         0.09457801],\n",
       "       [-0.00899798, -0.00899798,  0.62476528,  0.62476528,  0.05007983,\n",
       "         0.05007983],\n",
       "       [-0.0408262 , -0.0408262 ,  0.15428448,  0.15428448, -0.30384088,\n",
       "        -0.30384088],\n",
       "       [-0.0447428 , -0.0447428 , -0.03843264, -0.03843264,  0.58557049,\n",
       "         0.58557049],\n",
       "       [-0.11240146, -0.11240146,  0.23139819,  0.23139819,  0.22264454,\n",
       "         0.22264454]])"
      ]
     },
     "execution_count": 20,
     "metadata": {},
     "output_type": "execute_result"
    }
   ],
   "source": [
    "a = np.array(eig_vec, dtype=float)\n",
    "a"
   ]
  },
  {
   "cell_type": "code",
   "execution_count": 21,
   "id": "12169286",
   "metadata": {},
   "outputs": [
    {
     "data": {
      "text/html": [
       "<div>\n",
       "<style scoped>\n",
       "    .dataframe tbody tr th:only-of-type {\n",
       "        vertical-align: middle;\n",
       "    }\n",
       "\n",
       "    .dataframe tbody tr th {\n",
       "        vertical-align: top;\n",
       "    }\n",
       "\n",
       "    .dataframe thead th {\n",
       "        text-align: right;\n",
       "    }\n",
       "</style>\n",
       "<table border=\"1\" class=\"dataframe\">\n",
       "  <thead>\n",
       "    <tr style=\"text-align: right;\">\n",
       "      <th></th>\n",
       "      <th>0</th>\n",
       "      <th>1</th>\n",
       "      <th>2</th>\n",
       "      <th>3</th>\n",
       "      <th>4</th>\n",
       "      <th>5</th>\n",
       "    </tr>\n",
       "  </thead>\n",
       "  <tbody>\n",
       "    <tr>\n",
       "      <th>0</th>\n",
       "      <td>0.694528</td>\n",
       "      <td>0.694528</td>\n",
       "      <td>0.043483</td>\n",
       "      <td>0.043483</td>\n",
       "      <td>0.061354</td>\n",
       "      <td>0.061354</td>\n",
       "    </tr>\n",
       "    <tr>\n",
       "      <th>1</th>\n",
       "      <td>-0.035321</td>\n",
       "      <td>-0.035321</td>\n",
       "      <td>-0.170152</td>\n",
       "      <td>-0.170152</td>\n",
       "      <td>0.094578</td>\n",
       "      <td>0.094578</td>\n",
       "    </tr>\n",
       "    <tr>\n",
       "      <th>2</th>\n",
       "      <td>-0.008998</td>\n",
       "      <td>-0.008998</td>\n",
       "      <td>0.624765</td>\n",
       "      <td>0.624765</td>\n",
       "      <td>0.050080</td>\n",
       "      <td>0.050080</td>\n",
       "    </tr>\n",
       "    <tr>\n",
       "      <th>3</th>\n",
       "      <td>-0.040826</td>\n",
       "      <td>-0.040826</td>\n",
       "      <td>0.154284</td>\n",
       "      <td>0.154284</td>\n",
       "      <td>-0.303841</td>\n",
       "      <td>-0.303841</td>\n",
       "    </tr>\n",
       "    <tr>\n",
       "      <th>4</th>\n",
       "      <td>-0.044743</td>\n",
       "      <td>-0.044743</td>\n",
       "      <td>-0.038433</td>\n",
       "      <td>-0.038433</td>\n",
       "      <td>0.585570</td>\n",
       "      <td>0.585570</td>\n",
       "    </tr>\n",
       "    <tr>\n",
       "      <th>5</th>\n",
       "      <td>-0.112401</td>\n",
       "      <td>-0.112401</td>\n",
       "      <td>0.231398</td>\n",
       "      <td>0.231398</td>\n",
       "      <td>0.222645</td>\n",
       "      <td>0.222645</td>\n",
       "    </tr>\n",
       "  </tbody>\n",
       "</table>\n",
       "</div>"
      ],
      "text/plain": [
       "          0         1         2         3         4         5\n",
       "0  0.694528  0.694528  0.043483  0.043483  0.061354  0.061354\n",
       "1 -0.035321 -0.035321 -0.170152 -0.170152  0.094578  0.094578\n",
       "2 -0.008998 -0.008998  0.624765  0.624765  0.050080  0.050080\n",
       "3 -0.040826 -0.040826  0.154284  0.154284 -0.303841 -0.303841\n",
       "4 -0.044743 -0.044743 -0.038433 -0.038433  0.585570  0.585570\n",
       "5 -0.112401 -0.112401  0.231398  0.231398  0.222645  0.222645"
      ]
     },
     "execution_count": 21,
     "metadata": {},
     "output_type": "execute_result"
    }
   ],
   "source": [
    "a = DF(a)\n",
    "a"
   ]
  },
  {
   "cell_type": "code",
   "execution_count": 89,
   "id": "33d53215",
   "metadata": {},
   "outputs": [
    {
     "ename": "TypeError",
     "evalue": "type numpy.ndarray doesn't define __round__ method",
     "output_type": "error",
     "traceback": [
      "\u001b[1;31m---------------------------------------------------------------------------\u001b[0m",
      "\u001b[1;31mTypeError\u001b[0m                                 Traceback (most recent call last)",
      "\u001b[1;32m<ipython-input-89-571509a9d3e0>\u001b[0m in \u001b[0;36m<module>\u001b[1;34m\u001b[0m\n\u001b[1;32m----> 1\u001b[1;33m \u001b[0ma\u001b[0m \u001b[1;33m=\u001b[0m \u001b[0mround\u001b[0m\u001b[1;33m(\u001b[0m\u001b[0meig_vec\u001b[0m\u001b[1;33m,\u001b[0m \u001b[1;36m4\u001b[0m\u001b[1;33m)\u001b[0m\u001b[1;33m\u001b[0m\u001b[1;33m\u001b[0m\u001b[0m\n\u001b[0m\u001b[0;32m      2\u001b[0m \u001b[0ma\u001b[0m\u001b[1;33m\u001b[0m\u001b[1;33m\u001b[0m\u001b[0m\n",
      "\u001b[1;31mTypeError\u001b[0m: type numpy.ndarray doesn't define __round__ method"
     ]
    }
   ],
   "source": [
    "a = round(eig_vec, 4)\n",
    "a"
   ]
  },
  {
   "cell_type": "code",
   "execution_count": 95,
   "id": "8983af76",
   "metadata": {},
   "outputs": [],
   "source": [
    "np.set_printoptions(suppress=True)\n",
    "np.set_printoptions(precision=4, floatmode='maxprec')"
   ]
  },
  {
   "cell_type": "code",
   "execution_count": 22,
   "id": "b5ec320c",
   "metadata": {},
   "outputs": [
    {
     "name": "stdout",
     "output_type": "stream",
     "text": [
      "\n",
      "reconstructed S:\n",
      " [[-0.   -0.   -0.    0.02 -0.01 -0.01]\n",
      " [-0.   -0.    0.03 -0.01 -0.01 -0.01]\n",
      " [-0.   -0.   -0.   -0.01 -0.01  0.02]\n",
      " ...\n",
      " [-0.   -0.   -0.   -0.01 -0.01  0.02]\n",
      " [-0.   -0.01 -0.01 -0.01  0.01  0.01]\n",
      " [-0.   -0.   -0.    0.02 -0.01 -0.01]]\n"
     ]
    }
   ],
   "source": [
    "# 復元\n",
    "# A_re = (u @ np.diag(s, -1)[1:] @ vh).round(2)\n",
    "S_re = (u @ np.diag(s) @ vh).round(2)\n",
    "print('\\nreconstructed S:\\n', S_re)"
   ]
  },
  {
   "cell_type": "code",
   "execution_count": null,
   "id": "fce1fa7f",
   "metadata": {},
   "outputs": [],
   "source": []
  }
 ],
 "metadata": {
  "kernelspec": {
   "display_name": "Python 3",
   "language": "python",
   "name": "python3"
  },
  "language_info": {
   "codemirror_mode": {
    "name": "ipython",
    "version": 3
   },
   "file_extension": ".py",
   "mimetype": "text/x-python",
   "name": "python",
   "nbconvert_exporter": "python",
   "pygments_lexer": "ipython3",
   "version": "3.8.8"
  }
 },
 "nbformat": 4,
 "nbformat_minor": 5
}
